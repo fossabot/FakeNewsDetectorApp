{
 "cells": [
  {
   "cell_type": "code",
   "execution_count": 1,
   "metadata": {},
   "outputs": [],
   "source": [
    "import numpy as np \n",
    "import pandas as pd \n",
    "import pickle\n",
    "from sklearn.model_selection import train_test_split\n",
    "from sklearn.feature_extraction.text import TfidfVectorizer\n",
    "from sklearn.linear_model import PassiveAggressiveClassifier\n",
    "from sklearn.metrics import accuracy_score, classification_report, confusion_matrix\n",
    "from sklearn.model_selection import cross_val_score\n",
    "from sklearn.naive_bayes import MultinomialNB\n",
    "from sklearn import metrics\n",
    "import matplotlib.pyplot as plt\n",
    "import scikitplot.plotters as skplt\n",
    "import warnings"
   ]
  },
  {
   "cell_type": "code",
   "execution_count": 2,
   "metadata": {},
   "outputs": [],
   "source": [
    "def plot_cmat(yte, ypred):\n",
    "    '''Plotting confusion matrix'''\n",
    "    skplt.plot_confusion_matrix(yte,ypred)\n",
    "    plt.show()"
   ]
  },
  {
   "cell_type": "code",
   "execution_count": 3,
   "metadata": {},
   "outputs": [
    {
     "name": "stdout",
     "output_type": "stream",
     "text": [
      "REAL    3171\n",
      "FAKE    3164\n",
      "Name: label, dtype: int64\n",
      "REAL    3171\n",
      "FAKE    3164\n",
      "Name: label, dtype: int64\n"
     ]
    }
   ],
   "source": [
    "# Import dataset for training using Pandas\n",
    "news = pd.read_csv('datasets/data.csv')\n",
    "test_news = pd.read_csv('datasets/data.csv')\n",
    "title = news['title'].astype('U')\n",
    "text = news['text'].astype('U')\n",
    "label = news['label'].astype('U')\n",
    "test_label = test_news['label'].astype('U')\n",
    "\n",
    "title_text = title + ' ' + text\n",
    "# title_text.head()\n",
    "count_row = news.shape[0]\n",
    "count_test_row = test_news.shape[0]\n",
    "print(label.value_counts())\n",
    "print(test_label.value_counts())\n",
    "# test_news.count()"
   ]
  },
  {
   "cell_type": "code",
   "execution_count": 4,
   "metadata": {},
   "outputs": [
    {
     "name": "stdout",
     "output_type": "stream",
     "text": [
      "      Unnamed: 0  title   text  label\n",
      "0          False  False  False  False\n",
      "1          False  False  False  False\n",
      "2          False  False  False  False\n",
      "3          False  False  False  False\n",
      "4          False  False  False  False\n",
      "...          ...    ...    ...    ...\n",
      "6330       False  False  False  False\n",
      "6331       False  False  False  False\n",
      "6332       False  False  False  False\n",
      "6333       False  False  False  False\n",
      "6334       False  False  False  False\n",
      "\n",
      "[6335 rows x 4 columns]\n"
     ]
    }
   ],
   "source": [
    "check_nan_in_df = news.isnull()\n",
    "print (check_nan_in_df)"
   ]
  },
  {
   "cell_type": "code",
   "execution_count": 5,
   "metadata": {},
   "outputs": [],
   "source": [
    "# Splitting the dataset into test and train\n",
    "text_train, text_test, label_train, label_test = train_test_split(title_text, label, test_size=0.2, random_state=7)"
   ]
  },
  {
   "cell_type": "code",
   "execution_count": 6,
   "metadata": {},
   "outputs": [],
   "source": [
    "# Insert spliitted data into TfidfVectorizer and transform shape\n",
    "vectorizer = TfidfVectorizer(stop_words='english', max_df=0.7)"
   ]
  },
  {
   "cell_type": "code",
   "execution_count": 7,
   "metadata": {},
   "outputs": [],
   "source": [
    "transformed_text_train = vectorizer.fit_transform(text_train)\n",
    "transformed_text_test = vectorizer.transform(text_test)\n",
    "filename_vectorizer = 'TfidfVectorizer.sav'\n",
    "pickle.dump(vectorizer, open(filename_vectorizer, 'wb')) # Saving model"
   ]
  },
  {
   "cell_type": "code",
   "execution_count": 8,
   "metadata": {},
   "outputs": [
    {
     "name": "stdout",
     "output_type": "stream",
     "text": [
      "Accuracy Score: 92.27%\n",
      "K Fold Accuracy: 93.76%\n",
      "\n",
      "Classification Report\n",
      "              precision    recall  f1-score   support\n",
      "\n",
      "        FAKE       0.93      0.91      0.92       638\n",
      "        REAL       0.91      0.93      0.92       629\n",
      "\n",
      "    accuracy                           0.92      1267\n",
      "   macro avg       0.92      0.92      0.92      1267\n",
      "weighted avg       0.92      0.92      0.92      1267\n",
      "\n",
      "\n",
      "Confusion Matrix\n",
      "[[583  55]\n",
      " [ 43 586]]\n"
     ]
    },
    {
     "name": "stderr",
     "output_type": "stream",
     "text": [
      "E:\\MachineLearning\\FakeNewsClassifier\\env\\lib\\site-packages\\sklearn\\utils\\deprecation.py:86: FutureWarning: Function plot_confusion_matrix is deprecated; This will be removed in v0.4.0. Please use scikitplot.metrics.plot_confusion_matrix instead.\n",
      "  warnings.warn(msg, category=FutureWarning)\n"
     ]
    },
    {
     "data": {
      "image/png": "[encoded data removed]",
      "text/plain": [
       "<Figure size 432x288 with 2 Axes>"
      ]
     },
     "metadata": {
      "needs_background": "light"
     },
     "output_type": "display_data"
    }
   ],
   "source": [
    "# Initialize Classifier\n",
    "classifier = PassiveAggressiveClassifier(max_iter=100)\n",
    "\n",
    "classifier.fit(transformed_text_train, label_train)\n",
    "\n",
    "# Start Predict\n",
    "predict = classifier.predict(transformed_text_test)\n",
    "\n",
    "filename = 'ClassifierModel.sav'\n",
    "pickle.dump(classifier, open(filename, 'wb')) # Saving model\n",
    "\n",
    "# Get Accuracy Score\n",
    "score = accuracy_score(label_test, predict)\n",
    "print(\"Accuracy Score: %.2f%%\" % (score*100))\n",
    "\n",
    "X = vectorizer.transform(title_text)\n",
    "kscore = cross_val_score(classifier, X, news['label'].values, cv=5)\n",
    "print(f'K Fold Accuracy: {round(kscore.mean()*100,2)}%')\n",
    "\n",
    "print(\"\\nClassification Report\")\n",
    "print(classification_report(label_test, predict))\n",
    "\n",
    "print(\"\\nConfusion Matrix\")\n",
    "print(confusion_matrix(label_test, predict))\n",
    "\n",
    "plot_cmat(label_test, predict) # Show Confusion Matrix"
   ]
  },
  {
   "cell_type": "code",
   "execution_count": 9,
   "metadata": {},
   "outputs": [
    {
     "name": "stdout",
     "output_type": "stream",
     "text": [
      "accuracy:   0.847\n",
      "[[455 183]\n",
      " [ 11 618]]\n"
     ]
    },
    {
     "name": "stderr",
     "output_type": "stream",
     "text": [
      "E:\\MachineLearning\\FakeNewsClassifier\\env\\lib\\site-packages\\sklearn\\utils\\deprecation.py:86: FutureWarning: Function plot_confusion_matrix is deprecated; This will be removed in v0.4.0. Please use scikitplot.metrics.plot_confusion_matrix instead.\n",
      "  warnings.warn(msg, category=FutureWarning)\n"
     ]
    },
    {
     "data": {
      "image/png": "[encoded data removed]",
      "text/plain": [
       "<Figure size 432x288 with 2 Axes>"
      ]
     },
     "metadata": {
      "needs_background": "light"
     },
     "output_type": "display_data"
    }
   ],
   "source": [
    "#Applying Naive Bayes\n",
    "naive_classifier = MultinomialNB() \n",
    "naive_classifier.fit(transformed_text_train, label_train)                       # Fit Naive Bayes classifier according to X, y\n",
    "pred = naive_classifier.predict(transformed_text_test)                     # Perform classification on an array of test vectors X.\n",
    "naive_score = metrics.accuracy_score(label_test, pred)\n",
    "print(\"accuracy:   %0.3f\" % naive_score)\n",
    "cm = metrics.confusion_matrix(label_test, pred)\n",
    "print(cm)\n",
    "plot_cmat(label_test, pred) # Show Confusion Matrix"
   ]
  },
  {
   "cell_type": "code",
   "execution_count": null,
   "metadata": {},
   "outputs": [],
   "source": []
  }
 ],
 "metadata": {
  "kernelspec": {
   "display_name": "Python [conda env:env] *",
   "language": "python",
   "name": "conda-env-env-py"
  },
  "language_info": {
   "codemirror_mode": {
    "name": "ipython",
    "version": 3
   },
   "file_extension": ".py",
   "mimetype": "text/x-python",
   "name": "python",
   "nbconvert_exporter": "python",
   "pygments_lexer": "ipython3",
   "version": "3.8.5"
  }
 },
 "nbformat": 4,
 "nbformat_minor": 4
}
